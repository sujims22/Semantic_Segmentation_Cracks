{
 "cells": [
  {
   "cell_type": "code",
   "execution_count": 1,
   "metadata": {},
   "outputs": [
    {
     "name": "stdout",
     "output_type": "stream",
     "text": [
      "bin C:\\Users\\skoka3\\AppData\\Local\\Packages\\PythonSoftwareFoundation.Python.3.9_qbz5n2kfra8p0\\LocalCache\\local-packages\\Python39\\site-packages\\bitsandbytes\\libbitsandbytes_cuda113.dll\n"
     ]
    }
   ],
   "source": [
    "# Importing necessary libraries\n",
    "import os\n",
    "import numpy as np\n",
    "from PIL import Image\n",
    "import torch\n",
    "from torch.utils.data import Dataset, DataLoader\n",
    "from transformers import AutoModelForSemanticSegmentation, TrainingArguments, Trainer\n",
    "from transformers import SegformerFeatureExtractor\n",
    "from sklearn.model_selection import train_test_split\n",
    "import albumentations as A\n",
    "from torchvision.transforms import Compose, Resize, ToTensor, Normalize"
   ]
  },
  {
   "cell_type": "code",
   "execution_count": 2,
   "metadata": {},
   "outputs": [],
   "source": [
    "import os\n",
    "os.environ[\"WANDB_DISABLED\"] = \"true\"\n"
   ]
  },
  {
   "cell_type": "code",
   "execution_count": 3,
   "metadata": {},
   "outputs": [],
   "source": [
    "# Define the dataset class\n",
    "class CustomImageDataset(Dataset):\n",
    "    def __init__(self, img_dir, mask_dir, img_names, feature_extractor, augmentation=None):\n",
    "        self.img_dir = img_dir\n",
    "        self.mask_dir = mask_dir\n",
    "        self.img_names = img_names\n",
    "        self.feature_extractor = feature_extractor\n",
    "        self.augmentation = augmentation\n",
    "        self.img_names = [name for name in img_names if name.lower().endswith(('.png', '.jpg', '.jpeg'))]\n",
    "\n",
    "    def __len__(self):\n",
    "        return len(self.img_names)\n",
    "\n",
    "    def __getitem__(self, idx):\n",
    "        img_path = os.path.join(self.img_dir, self.img_names[idx])\n",
    "        mask_path = os.path.join(self.mask_dir, self.img_names[idx].replace('.jpg', '.png'))\n",
    "        \n",
    "\n",
    "        image = Image.open(img_path).convert(\"RGB\")\n",
    "        mask = Image.open(mask_path).convert(\"L\")\n",
    "        \n",
    "        # Resize images and masks to a common size, e.g., (512, 512)\n",
    "        resize_transform = A.Resize(512, 512)\n",
    "        augmented = resize_transform(image=np.array(image), mask=np.array(mask))\n",
    "        image, mask = augmented['image'], augmented['mask']\n",
    "        \n",
    "        # Apply additional augmentations\n",
    "        if self.augmentation:\n",
    "            augmented = self.augmentation(image=image, mask=mask)\n",
    "            image, mask = augmented['image'], augmented['mask']\n",
    "        \n",
    "        # Process image and mask\n",
    "        encoded_inputs = self.feature_extractor(images=image, return_tensors=\"pt\")\n",
    "        encoded_inputs['labels'] = torch.tensor(mask, dtype=torch.long).unsqueeze(0)  # Add channel dimension\n",
    "        \n",
    "        # Remove the batch dimension added by the feature extractor\n",
    "        for k, v in encoded_inputs.items():\n",
    "            encoded_inputs[k] = v.squeeze(0)\n",
    "        \n",
    "        return encoded_inputs"
   ]
  },
  {
   "cell_type": "code",
   "execution_count": 4,
   "metadata": {},
   "outputs": [],
   "source": [
    "# Define augmentations\n",
    "def get_training_augmentation():\n",
    "    train_transform = [\n",
    "        A.HorizontalFlip(p=0.5),\n",
    "        A.VerticalFlip(p=0.5),\n",
    "        # Add more transformations as needed\n",
    "    ]\n",
    "    return A.Compose(train_transform)"
   ]
  },
  {
   "cell_type": "code",
   "execution_count": 5,
   "metadata": {},
   "outputs": [
    {
     "name": "stderr",
     "output_type": "stream",
     "text": [
      "C:\\Users\\skoka3\\AppData\\Local\\Packages\\PythonSoftwareFoundation.Python.3.9_qbz5n2kfra8p0\\LocalCache\\local-packages\\Python39\\site-packages\\transformers\\models\\segformer\\feature_extraction_segformer.py:28: FutureWarning: The class SegformerFeatureExtractor is deprecated and will be removed in version 5 of Transformers. Please use SegformerImageProcessor instead.\n",
      "  warnings.warn(\n",
      "C:\\Users\\skoka3\\AppData\\Local\\Packages\\PythonSoftwareFoundation.Python.3.9_qbz5n2kfra8p0\\LocalCache\\local-packages\\Python39\\site-packages\\transformers\\models\\segformer\\image_processing_segformer.py:101: FutureWarning: The `reduce_labels` parameter is deprecated and will be removed in a future version. Please use `do_reduce_labels` instead.\n",
      "  warnings.warn(\n",
      "Some weights of SegformerForSemanticSegmentation were not initialized from the model checkpoint at nvidia/mit-b0 and are newly initialized: ['decode_head.linear_c.0.proj.bias', 'decode_head.linear_c.3.proj.weight', 'decode_head.classifier.bias', 'decode_head.batch_norm.bias', 'decode_head.batch_norm.weight', 'decode_head.linear_c.3.proj.bias', 'decode_head.linear_c.0.proj.weight', 'decode_head.linear_fuse.weight', 'decode_head.batch_norm.running_var', 'decode_head.linear_c.2.proj.weight', 'decode_head.linear_c.1.proj.weight', 'decode_head.linear_c.1.proj.bias', 'decode_head.linear_c.2.proj.bias', 'decode_head.batch_norm.running_mean', 'decode_head.classifier.weight', 'decode_head.batch_norm.num_batches_tracked']\n",
      "You should probably TRAIN this model on a down-stream task to be able to use it for predictions and inference.\n"
     ]
    }
   ],
   "source": [
    "# Load the model and feature extractor\n",
    "checkpoint = \"nvidia/mit-b0\"\n",
    "feature_extractor = SegformerFeatureExtractor.from_pretrained(checkpoint)\n",
    "model = AutoModelForSemanticSegmentation.from_pretrained(checkpoint)"
   ]
  },
  {
   "cell_type": "code",
   "execution_count": 6,
   "metadata": {},
   "outputs": [],
   "source": [
    "# Assuming you have directories with images and masks for training\n",
    "image_dir = r\"C:\\Users\\skoka3\\Desktop\\Sravan\\CIVE-FP\\data\\imageDamage\\imageDamage\"\n",
    "mask_dir = r\"C:\\Users\\skoka3\\Desktop\\Sravan\\CIVE-FP\\data\\imageDamage\\FineDamageReducedPNG\"\n",
    "\n"
   ]
  },
  {
   "cell_type": "code",
   "execution_count": 7,
   "metadata": {},
   "outputs": [],
   "source": [
    "img_names = os.listdir(image_dir)\n",
    "train_img_names, valid_img_names = train_test_split(img_names, test_size=0.2, random_state=42)\n"
   ]
  },
  {
   "cell_type": "code",
   "execution_count": 8,
   "metadata": {},
   "outputs": [],
   "source": [
    "# Create the datasets\n",
    "train_dataset = CustomImageDataset(\n",
    "    img_dir=image_dir,\n",
    "    mask_dir=mask_dir,\n",
    "    img_names=train_img_names,\n",
    "    feature_extractor=feature_extractor,\n",
    "    augmentation=get_training_augmentation()\n",
    ")\n",
    "\n",
    "valid_dataset = CustomImageDataset(\n",
    "    img_dir=image_dir,\n",
    "    mask_dir=mask_dir,\n",
    "    img_names=valid_img_names,\n",
    "    feature_extractor=feature_extractor\n",
    ")\n"
   ]
  },
  {
   "cell_type": "code",
   "execution_count": 9,
   "metadata": {},
   "outputs": [
    {
     "name": "stderr",
     "output_type": "stream",
     "text": [
      "Using the `WANDB_DISABLED` environment variable is deprecated and will be removed in v5. Use the --report_to flag to control the integrations used for logging result (for instance --report_to none).\n"
     ]
    },
    {
     "data": {
      "application/vnd.jupyter.widget-view+json": {
       "model_id": "8ed908ba332a4bb6a457c2572a48a275",
       "version_major": 2,
       "version_minor": 0
      },
      "text/plain": [
       "  0%|          | 0/2240 [00:00<?, ?it/s]"
      ]
     },
     "metadata": {},
     "output_type": "display_data"
    },
    {
     "data": {
      "application/vnd.jupyter.widget-view+json": {
       "model_id": "598194cebbd641f49b9779ace4f451bc",
       "version_major": 2,
       "version_minor": 0
      },
      "text/plain": [
       "  0%|          | 0/56 [00:00<?, ?it/s]"
      ]
     },
     "metadata": {},
     "output_type": "display_data"
    },
    {
     "name": "stdout",
     "output_type": "stream",
     "text": [
      "{'eval_loss': 0.14501823484897614, 'eval_runtime': 452.8259, 'eval_samples_per_second': 0.495, 'eval_steps_per_second': 0.124, 'epoch': 1.0}\n"
     ]
    },
    {
     "data": {
      "application/vnd.jupyter.widget-view+json": {
       "model_id": "a6411254713b4588832935e5a1630a5e",
       "version_major": 2,
       "version_minor": 0
      },
      "text/plain": [
       "  0%|          | 0/56 [00:00<?, ?it/s]"
      ]
     },
     "metadata": {},
     "output_type": "display_data"
    },
    {
     "name": "stdout",
     "output_type": "stream",
     "text": [
      "{'eval_loss': 0.06789228320121765, 'eval_runtime': 451.9354, 'eval_samples_per_second': 0.496, 'eval_steps_per_second': 0.124, 'epoch': 2.0}\n",
      "{'loss': 1.3057, 'learning_rate': 0.00015535714285714287, 'epoch': 2.23}\n"
     ]
    },
    {
     "data": {
      "application/vnd.jupyter.widget-view+json": {
       "model_id": "1ae34b2e5073428cbd970f325a969d9b",
       "version_major": 2,
       "version_minor": 0
      },
      "text/plain": [
       "  0%|          | 0/56 [00:00<?, ?it/s]"
      ]
     },
     "metadata": {},
     "output_type": "display_data"
    },
    {
     "name": "stdout",
     "output_type": "stream",
     "text": [
      "{'eval_loss': 0.058518052101135254, 'eval_runtime': 452.1434, 'eval_samples_per_second': 0.495, 'eval_steps_per_second': 0.124, 'epoch': 3.0}\n"
     ]
    },
    {
     "data": {
      "application/vnd.jupyter.widget-view+json": {
       "model_id": "65771417a94b431398648dfe12f9981a",
       "version_major": 2,
       "version_minor": 0
      },
      "text/plain": [
       "  0%|          | 0/56 [00:00<?, ?it/s]"
      ]
     },
     "metadata": {},
     "output_type": "display_data"
    },
    {
     "name": "stdout",
     "output_type": "stream",
     "text": [
      "{'eval_loss': 0.055926788598299026, 'eval_runtime': 452.4514, 'eval_samples_per_second': 0.495, 'eval_steps_per_second': 0.124, 'epoch': 4.0}\n",
      "{'loss': 0.0571, 'learning_rate': 0.00011071428571428572, 'epoch': 4.46}\n"
     ]
    },
    {
     "data": {
      "application/vnd.jupyter.widget-view+json": {
       "model_id": "4cae1541215c4353a51b18fae2db63e8",
       "version_major": 2,
       "version_minor": 0
      },
      "text/plain": [
       "  0%|          | 0/56 [00:00<?, ?it/s]"
      ]
     },
     "metadata": {},
     "output_type": "display_data"
    },
    {
     "name": "stdout",
     "output_type": "stream",
     "text": [
      "{'eval_loss': 0.053929347544908524, 'eval_runtime': 452.0582, 'eval_samples_per_second': 0.496, 'eval_steps_per_second': 0.124, 'epoch': 5.0}\n"
     ]
    },
    {
     "data": {
      "application/vnd.jupyter.widget-view+json": {
       "model_id": "70b99c66f02f4401809b34e41c66795a",
       "version_major": 2,
       "version_minor": 0
      },
      "text/plain": [
       "  0%|          | 0/56 [00:00<?, ?it/s]"
      ]
     },
     "metadata": {},
     "output_type": "display_data"
    },
    {
     "name": "stdout",
     "output_type": "stream",
     "text": [
      "{'eval_loss': 0.052203092724084854, 'eval_runtime': 452.1797, 'eval_samples_per_second': 0.495, 'eval_steps_per_second': 0.124, 'epoch': 6.0}\n",
      "{'loss': 0.0499, 'learning_rate': 6.607142857142857e-05, 'epoch': 6.7}\n"
     ]
    },
    {
     "data": {
      "application/vnd.jupyter.widget-view+json": {
       "model_id": "f8a65507b95e4dab94daf8973f15ec70",
       "version_major": 2,
       "version_minor": 0
      },
      "text/plain": [
       "  0%|          | 0/56 [00:00<?, ?it/s]"
      ]
     },
     "metadata": {},
     "output_type": "display_data"
    },
    {
     "name": "stdout",
     "output_type": "stream",
     "text": [
      "{'eval_loss': 0.04996376857161522, 'eval_runtime': 451.9579, 'eval_samples_per_second': 0.496, 'eval_steps_per_second': 0.124, 'epoch': 7.0}\n"
     ]
    },
    {
     "data": {
      "application/vnd.jupyter.widget-view+json": {
       "model_id": "75e0b34d41854e4c908e8270d33fb667",
       "version_major": 2,
       "version_minor": 0
      },
      "text/plain": [
       "  0%|          | 0/56 [00:00<?, ?it/s]"
      ]
     },
     "metadata": {},
     "output_type": "display_data"
    },
    {
     "name": "stdout",
     "output_type": "stream",
     "text": [
      "{'eval_loss': 0.04946743696928024, 'eval_runtime': 452.1876, 'eval_samples_per_second': 0.495, 'eval_steps_per_second': 0.124, 'epoch': 8.0}\n",
      "{'loss': 0.0465, 'learning_rate': 2.1428571428571428e-05, 'epoch': 8.93}\n"
     ]
    },
    {
     "data": {
      "application/vnd.jupyter.widget-view+json": {
       "model_id": "0316df02fa464acc83aed0d6192daeaf",
       "version_major": 2,
       "version_minor": 0
      },
      "text/plain": [
       "  0%|          | 0/56 [00:00<?, ?it/s]"
      ]
     },
     "metadata": {},
     "output_type": "display_data"
    },
    {
     "name": "stdout",
     "output_type": "stream",
     "text": [
      "{'eval_loss': 0.04840749502182007, 'eval_runtime': 452.0419, 'eval_samples_per_second': 0.496, 'eval_steps_per_second': 0.124, 'epoch': 9.0}\n"
     ]
    },
    {
     "data": {
      "application/vnd.jupyter.widget-view+json": {
       "model_id": "102e0636ba7c47f6b32cf07ab3f0c587",
       "version_major": 2,
       "version_minor": 0
      },
      "text/plain": [
       "  0%|          | 0/56 [00:00<?, ?it/s]"
      ]
     },
     "metadata": {},
     "output_type": "display_data"
    },
    {
     "name": "stdout",
     "output_type": "stream",
     "text": [
      "{'eval_loss': 0.048327624797821045, 'eval_runtime': 452.2262, 'eval_samples_per_second': 0.495, 'eval_steps_per_second': 0.124, 'epoch': 10.0}\n",
      "{'train_runtime': 26700.2003, 'train_samples_per_second': 0.335, 'train_steps_per_second': 0.084, 'train_loss': 0.3305436325924737, 'epoch': 10.0}\n"
     ]
    },
    {
     "data": {
      "text/plain": [
       "TrainOutput(global_step=2240, training_loss=0.3305436325924737, metrics={'train_runtime': 26700.2003, 'train_samples_per_second': 0.335, 'train_steps_per_second': 0.084, 'train_loss': 0.3305436325924737, 'epoch': 10.0})"
      ]
     },
     "execution_count": 9,
     "metadata": {},
     "output_type": "execute_result"
    }
   ],
   "source": [
    "# Define the training arguments\n",
    "training_args = TrainingArguments(\n",
    "    output_dir=\"segformer-b0-scene-parse-150\",\n",
    "    learning_rate=2e-4,\n",
    "    per_device_train_batch_size=4,\n",
    "    per_device_eval_batch_size=4,\n",
    "    num_train_epochs=10,\n",
    "    weight_decay=0.01,\n",
    "    evaluation_strategy=\"epoch\",\n",
    "    save_strategy=\"epoch\",\n",
    "    load_best_model_at_end=True,\n",
    "    metric_for_best_model=\"eval_loss\",\n",
    "    greater_is_better=False,\n",
    ")\n",
    "\n",
    "# Define the Trainer\n",
    "trainer = Trainer(\n",
    "    model=model,\n",
    "    args=training_args,\n",
    "    train_dataset=train_dataset,\n",
    "    eval_dataset=valid_dataset,\n",
    "    # tokenizer argument removed\n",
    ")\n",
    "\n",
    "# Train the model\n",
    "trainer.train()\n"
   ]
  },
  {
   "cell_type": "code",
   "execution_count": 10,
   "metadata": {},
   "outputs": [],
   "source": [
    "model.save_pretrained(\"best_segformer.pth\")\n"
   ]
  },
  {
   "cell_type": "code",
   "execution_count": 13,
   "metadata": {},
   "outputs": [
    {
     "data": {
      "image/png": "[encoded data removed]",
      "text/plain": [
       "<Figure size 1200x500 with 2 Axes>"
      ]
     },
     "metadata": {},
     "output_type": "display_data"
    }
   ],
   "source": [
    "import matplotlib.pyplot as plt\n",
    "\n",
    "training_logs = trainer.state.log_history\n",
    "\n",
    "training_loss = [log['loss'] for log in training_logs if 'loss' in log]\n",
    "validation_loss = [log['eval_loss'] for log in training_logs if 'eval_loss' in log]\n",
    "miou = [log['eval_miou'] for log in training_logs if 'eval_miou' in log]  # Replace 'eval_miou' with your actual IoU metric name\n",
    "\n",
    "# Plotting training and validation loss\n",
    "plt.figure(figsize=(12, 5))\n",
    "plt.subplot(1, 2, 1)\n",
    "plt.plot(training_loss, label='Training Loss')\n",
    "plt.plot(validation_loss, label='Validation Loss')\n",
    "plt.title('Training and Validation Loss')\n",
    "plt.xlabel('Epochs')\n",
    "plt.ylabel('Loss')\n",
    "plt.legend()\n",
    "\n",
    "# Plotting mean IoU\n",
    "plt.subplot(1, 2, 2)\n",
    "plt.plot(miou, label='Mean IoU')\n",
    "plt.title('Mean IoU')\n",
    "plt.xlabel('Epochs')\n",
    "plt.ylabel('mIoU')\n",
    "plt.legend()\n",
    "\n",
    "plt.show()\n"
   ]
  },
  {
   "cell_type": "code",
   "execution_count": null,
   "metadata": {},
   "outputs": [],
   "source": []
  }
 ],
 "metadata": {
  "kernelspec": {
   "display_name": "Python 3",
   "language": "python",
   "name": "python3"
  },
  "language_info": {
   "codemirror_mode": {
    "name": "ipython",
    "version": 3
   },
   "file_extension": ".py",
   "mimetype": "text/x-python",
   "name": "python",
   "nbconvert_exporter": "python",
   "pygments_lexer": "ipython3",
   "version": "3.9.13"
  },
  "orig_nbformat": 4
 },
 "nbformat": 4,
 "nbformat_minor": 2
}
