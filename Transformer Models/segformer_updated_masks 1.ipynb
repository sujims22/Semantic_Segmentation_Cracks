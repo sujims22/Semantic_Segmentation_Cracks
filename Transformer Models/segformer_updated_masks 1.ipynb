{
 "cells": [
  {
   "cell_type": "code",
   "execution_count": 1,
   "metadata": {},
   "outputs": [
    {
     "name": "stdout",
     "output_type": "stream",
     "text": [
      "bin C:\\Users\\skoka3\\AppData\\Local\\Packages\\PythonSoftwareFoundation.Python.3.9_qbz5n2kfra8p0\\LocalCache\\local-packages\\Python39\\site-packages\\bitsandbytes\\libbitsandbytes_cuda113.dll\n"
     ]
    }
   ],
   "source": [
    "# Importing necessary libraries\n",
    "import os\n",
    "import numpy as np\n",
    "from PIL import Image\n",
    "import torch\n",
    "from torch.utils.data import Dataset, DataLoader\n",
    "from transformers import AutoModelForSemanticSegmentation, TrainingArguments, Trainer\n",
    "from transformers import SegformerFeatureExtractor\n",
    "from sklearn.model_selection import train_test_split\n",
    "import albumentations as A\n",
    "from torchvision.transforms import Compose, Resize, ToTensor, Normalize"
   ]
  },
  {
   "cell_type": "code",
   "execution_count": 2,
   "metadata": {},
   "outputs": [],
   "source": [
    "import os\n",
    "os.environ[\"WANDB_DISABLED\"] = \"true\"\n"
   ]
  },
  {
   "cell_type": "code",
   "execution_count": 3,
   "metadata": {},
   "outputs": [],
   "source": [
    "import os\n",
    "import numpy as np\n",
    "from PIL import Image\n",
    "import torch\n",
    "from torch.utils.data import Dataset\n",
    "from transformers import SegformerFeatureExtractor\n",
    "from transformers import AutoModelForSemanticSegmentation\n",
    "\n",
    "import albumentations as A\n",
    "\n",
    "def load_mask(mask_path, num_classes):\n",
    "    # Load the mask image\n",
    "    mask_image = Image.open(mask_path)\n",
    "    \n",
    "    # Convert mask image to numpy array\n",
    "    mask_array = np.array(mask_image)\n",
    "    \n",
    "    # If mask is RGB, convert it to a unique class map\n",
    "    if len(mask_array.shape) == 3:  # RGB image\n",
    "        # Convert RGB to a unique number (assuming 8-bit per channel)\n",
    "        mask = mask_array[:, :, 0] * 256 * 256 + mask_array[:, :, 1] * 256 + mask_array[:, :, 2]\n",
    "        \n",
    "        # Map unique RGB combinations to class indices\n",
    "        unique_colors = np.unique(mask)\n",
    "        color_to_class = {color: idx for idx, color in enumerate(unique_colors)}\n",
    "        mask_class_map = np.vectorize(color_to_class.get)(mask)\n",
    "        \n",
    "        # Clip to number of classes\n",
    "        mask_class_map = np.clip(mask_class_map, 0, num_classes - 1)\n",
    "        \n",
    "        return mask_class_map\n",
    "    else:\n",
    "        # If mask is already in single channel format, just return it\n",
    "        return mask_array\n",
    "\n",
    "class CustomImageDataset(Dataset):\n",
    "    def __init__(self, img_dir, mask_dir, img_names, feature_extractor, num_classes, augmentation=None):\n",
    "        self.img_dir = img_dir\n",
    "        self.mask_dir = mask_dir\n",
    "        self.img_names = [name for name in img_names if name.lower().endswith(('.png', '.jpg', '.jpeg'))]\n",
    "        self.feature_extractor = feature_extractor\n",
    "        self.num_classes = num_classes\n",
    "        self.augmentation = augmentation\n",
    "\n",
    "    def __len__(self):\n",
    "        return len(self.img_names)\n",
    "\n",
    "    def __getitem__(self, idx):\n",
    "        img_path = os.path.join(self.img_dir, self.img_names[idx])\n",
    "        mask_path = os.path.join(self.mask_dir, self.img_names[idx].replace('.jpg', '.png'))\n",
    "        image = Image.open(img_path).convert(\"RGB\")\n",
    "        \n",
    "        mask = load_mask(mask_path, self.num_classes)\n",
    "        \n",
    "        # Apply resizing\n",
    "        resize_transform = A.Compose([A.Resize(64, 64)])\n",
    "        augmented = resize_transform(image=np.array(image), mask=mask)\n",
    "        image, mask = augmented['image'], augmented['mask']\n",
    "\n",
    "        # Apply additional augmentations\n",
    "        if self.augmentation:\n",
    "            augmented = self.augmentation(image=image, mask=mask)\n",
    "            image, mask = augmented['image'], augmented['mask']\n",
    "\n",
    "        # Process image with feature extractor\n",
    "        encoded_inputs = self.feature_extractor(images=image, return_tensors=\"pt\")\n",
    "        encoded_inputs['labels'] = torch.tensor(mask, dtype=torch.long).unsqueeze(0)\n",
    "\n",
    "        # Remove the batch dimension added by the feature extractor\n",
    "        for k, v in encoded_inputs.items():\n",
    "            encoded_inputs[k] = v.squeeze(0)\n",
    "\n",
    "        return encoded_inputs\n",
    "\n"
   ]
  },
  {
   "cell_type": "code",
   "execution_count": 4,
   "metadata": {},
   "outputs": [],
   "source": [
    "# Define augmentations\n",
    "def get_training_augmentation():\n",
    "    train_transform = [\n",
    "        A.HorizontalFlip(p=0.5),\n",
    "        A.VerticalFlip(p=0.5),\n",
    "        # Add more transformations as needed\n",
    "    ]\n",
    "    return A.Compose(train_transform)"
   ]
  },
  {
   "cell_type": "code",
   "execution_count": 5,
   "metadata": {},
   "outputs": [
    {
     "name": "stderr",
     "output_type": "stream",
     "text": [
      "C:\\Users\\skoka3\\AppData\\Local\\Packages\\PythonSoftwareFoundation.Python.3.9_qbz5n2kfra8p0\\LocalCache\\local-packages\\Python39\\site-packages\\transformers\\models\\segformer\\feature_extraction_segformer.py:28: FutureWarning: The class SegformerFeatureExtractor is deprecated and will be removed in version 5 of Transformers. Please use SegformerImageProcessor instead.\n",
      "  warnings.warn(\n",
      "C:\\Users\\skoka3\\AppData\\Local\\Packages\\PythonSoftwareFoundation.Python.3.9_qbz5n2kfra8p0\\LocalCache\\local-packages\\Python39\\site-packages\\transformers\\models\\segformer\\image_processing_segformer.py:101: FutureWarning: The `reduce_labels` parameter is deprecated and will be removed in a future version. Please use `do_reduce_labels` instead.\n",
      "  warnings.warn(\n",
      "Some weights of SegformerForSemanticSegmentation were not initialized from the model checkpoint at nvidia/mit-b0 and are newly initialized: ['decode_head.classifier.weight', 'decode_head.linear_c.1.proj.bias', 'decode_head.batch_norm.running_mean', 'decode_head.linear_fuse.weight', 'decode_head.linear_c.0.proj.weight', 'decode_head.linear_c.3.proj.bias', 'decode_head.batch_norm.num_batches_tracked', 'decode_head.linear_c.2.proj.weight', 'decode_head.batch_norm.bias', 'decode_head.linear_c.1.proj.weight', 'decode_head.linear_c.0.proj.bias', 'decode_head.batch_norm.running_var', 'decode_head.batch_norm.weight', 'decode_head.linear_c.3.proj.weight', 'decode_head.linear_c.2.proj.bias', 'decode_head.classifier.bias']\n",
      "You should probably TRAIN this model on a down-stream task to be able to use it for predictions and inference.\n"
     ]
    }
   ],
   "source": [
    "# Load the model and feature extractor\n",
    "checkpoint = \"nvidia/mit-b0\"\n",
    "feature_extractor = SegformerFeatureExtractor.from_pretrained(checkpoint)\n",
    "model = AutoModelForSemanticSegmentation.from_pretrained(checkpoint)"
   ]
  },
  {
   "cell_type": "code",
   "execution_count": 6,
   "metadata": {},
   "outputs": [],
   "source": [
    "# Assuming you have directories with images and masks for training\n",
    "image_dir = \"data\\imageDamage\\imageDamage\"\n",
    "mask_dir = \"data\\imageDamage\\FineDamageReducedPNG\"\n"
   ]
  },
  {
   "cell_type": "code",
   "execution_count": 7,
   "metadata": {},
   "outputs": [],
   "source": [
    "img_names = os.listdir(image_dir)\n",
    "train_val_img_names, test_img_names = train_test_split(img_names, test_size=0.15, random_state=42)\n",
    "train_img_names, valid_img_names = train_test_split(train_val_img_names, test_size=0.15, random_state=42)\n"
   ]
  },
  {
   "cell_type": "code",
   "execution_count": 8,
   "metadata": {},
   "outputs": [],
   "source": [
    "train_img_names = train_img_names[:10]\n",
    "valid_img_names = valid_img_names[:2]"
   ]
  },
  {
   "cell_type": "code",
   "execution_count": 9,
   "metadata": {},
   "outputs": [
    {
     "data": {
      "text/plain": [
       "['07_RCB0019_F03_DSC_0380020.jpg',\n",
       " '02_RCB0031_F01_DSC_0217015.jpg',\n",
       " '09_DJI-0002 2_image85062.jpg',\n",
       " '09_DJI-0002 2_image45022.jpg',\n",
       " '09_DJI-0002 2_image116093.jpg',\n",
       " '03_RCB0002_F05_DSC_0836000.jpg',\n",
       " '09_DJI-0002 2_image79056.jpg',\n",
       " '10_DJI-0004_image41032.jpg',\n",
       " '02_RCB0029_F01_DSC_0334004.jpg',\n",
       " '09_DJI-0002 2_image54031.jpg']"
      ]
     },
     "execution_count": 9,
     "metadata": {},
     "output_type": "execute_result"
    }
   ],
   "source": [
    "train_img_names"
   ]
  },
  {
   "cell_type": "code",
   "execution_count": 10,
   "metadata": {},
   "outputs": [],
   "source": [
    "# Create the datasets\n",
    "train_dataset = CustomImageDataset(\n",
    "    img_dir=image_dir,\n",
    "    mask_dir=mask_dir,\n",
    "    img_names=train_img_names,\n",
    "    feature_extractor=feature_extractor,\n",
    "    augmentation = get_training_augmentation(),\n",
    "    num_classes=7\n",
    ")\n",
    "\n",
    "valid_dataset = CustomImageDataset(\n",
    "    img_dir=image_dir,\n",
    "    mask_dir=mask_dir,\n",
    "    img_names=valid_img_names,\n",
    "    feature_extractor=feature_extractor,\n",
    "    num_classes=7\n",
    ")\n"
   ]
  },
  {
   "cell_type": "code",
   "execution_count": 11,
   "metadata": {},
   "outputs": [],
   "source": [
    "# from datasets import load_metric\n",
    "# mean_iou = load_metric(\"./metrics/mean_iou\")\n",
    "\n",
    "# results = mean_iou.compute(\n",
    "#     predictions=predicted, references=ground_truth, num_labels=10, ignore_index=255, reduce_labels=False\n",
    "# )\n",
    "# print(results)"
   ]
  },
  {
   "cell_type": "code",
   "execution_count": 12,
   "metadata": {},
   "outputs": [],
   "source": [
    "# import numpy as np\n",
    "# from sklearn.metrics import confusion_matrix\n",
    "# from transformers import EvalPrediction\n",
    "\n",
    "# def compute_mIOU(preds: EvalPrediction):\n",
    "#     # preds.predictions are logits, so we take the argmax to get predicted labels\n",
    "#     pred_labels = np.argmax(preds.predictions, axis=1) if preds.predictions.ndim > 1 else preds.predictions\n",
    "#     true_labels = preds.label_ids\n",
    "\n",
    "#     num_classes = np.max(true_labels) + 1  # Assuming classes are zero-indexed\n",
    "    \n",
    "#     # Flatten the arrays\n",
    "#     pred_labels = pred_labels.flatten()\n",
    "#     true_labels = true_labels.flatten()\n",
    "\n",
    "#     # Compute the confusion matrix\n",
    "#     confusion = confusion_matrix(true_labels, pred_labels, labels=range(num_classes))\n",
    "\n",
    "#     # Calculate IoU for each class\n",
    "#     iou = np.diag(confusion) / (confusion.sum(axis=1) + confusion.sum(axis=0) - np.diag(confusion))\n",
    "\n",
    "#     # Handle the case where a division by zero occurs\n",
    "#     iou = np.where(np.isnan(iou), 0, iou)\n",
    "\n",
    "#     # Compute mIoU\n",
    "#     mIoU = np.nanmean(iou)\n",
    "\n",
    "#     return {\"mIoU\": mIoU}"
   ]
  },
  {
   "cell_type": "code",
   "execution_count": 23,
   "metadata": {},
   "outputs": [
    {
     "name": "stderr",
     "output_type": "stream",
     "text": [
      "Using the `WANDB_DISABLED` environment variable is deprecated and will be removed in v5. Use the --report_to flag to control the integrations used for logging result (for instance --report_to none).\n"
     ]
    },
    {
     "data": {
      "application/vnd.jupyter.widget-view+json": {
       "model_id": "d01430316efa4083bd04f7833d2f7014",
       "version_major": 2,
       "version_minor": 0
      },
      "text/plain": [
       "  0%|          | 0/15 [00:00<?, ?it/s]"
      ]
     },
     "metadata": {},
     "output_type": "display_data"
    },
    {
     "data": {
      "application/vnd.jupyter.widget-view+json": {
       "model_id": "4d1f32c1b2174aa3ad959ebbe79c7e91",
       "version_major": 2,
       "version_minor": 0
      },
      "text/plain": [
       "  0%|          | 0/1 [00:00<?, ?it/s]"
      ]
     },
     "metadata": {},
     "output_type": "display_data"
    },
    {
     "name": "stdout",
     "output_type": "stream",
     "text": [
      "{'eval_loss': 6.678332328796387, 'eval_runtime': 0.2624, 'eval_samples_per_second': 7.621, 'eval_steps_per_second': 3.81, 'epoch': 1.0}\n"
     ]
    },
    {
     "data": {
      "application/vnd.jupyter.widget-view+json": {
       "model_id": "3c8f9c6bed1041958eca003d04a32abb",
       "version_major": 2,
       "version_minor": 0
      },
      "text/plain": [
       "  0%|          | 0/1 [00:00<?, ?it/s]"
      ]
     },
     "metadata": {},
     "output_type": "display_data"
    },
    {
     "name": "stdout",
     "output_type": "stream",
     "text": [
      "{'eval_loss': 6.359519958496094, 'eval_runtime': 0.259, 'eval_samples_per_second': 7.722, 'eval_steps_per_second': 3.861, 'epoch': 2.0}\n"
     ]
    },
    {
     "data": {
      "application/vnd.jupyter.widget-view+json": {
       "model_id": "2ce05540f43042bba70eff6b76b2d44d",
       "version_major": 2,
       "version_minor": 0
      },
      "text/plain": [
       "  0%|          | 0/1 [00:00<?, ?it/s]"
      ]
     },
     "metadata": {},
     "output_type": "display_data"
    },
    {
     "name": "stdout",
     "output_type": "stream",
     "text": [
      "{'eval_loss': 5.7888264656066895, 'eval_runtime': 0.2601, 'eval_samples_per_second': 7.689, 'eval_steps_per_second': 3.845, 'epoch': 3.0}\n",
      "{'loss': 6.5014, 'learning_rate': 6.666666666666667e-05, 'epoch': 3.33}\n"
     ]
    },
    {
     "data": {
      "application/vnd.jupyter.widget-view+json": {
       "model_id": "d9d2cd21a6264bc28744572260e0a0ec",
       "version_major": 2,
       "version_minor": 0
      },
      "text/plain": [
       "  0%|          | 0/1 [00:00<?, ?it/s]"
      ]
     },
     "metadata": {},
     "output_type": "display_data"
    },
    {
     "name": "stdout",
     "output_type": "stream",
     "text": [
      "{'eval_loss': 5.738979816436768, 'eval_runtime': 0.2634, 'eval_samples_per_second': 7.592, 'eval_steps_per_second': 3.796, 'epoch': 4.0}\n"
     ]
    },
    {
     "data": {
      "application/vnd.jupyter.widget-view+json": {
       "model_id": "c434e65fcf124f11b11e5ddcefe11407",
       "version_major": 2,
       "version_minor": 0
      },
      "text/plain": [
       "  0%|          | 0/1 [00:00<?, ?it/s]"
      ]
     },
     "metadata": {},
     "output_type": "display_data"
    },
    {
     "name": "stdout",
     "output_type": "stream",
     "text": [
      "{'eval_loss': 5.799191951751709, 'eval_runtime': 0.2664, 'eval_samples_per_second': 7.506, 'eval_steps_per_second': 3.753, 'epoch': 5.0}\n",
      "{'train_runtime': 22.7717, 'train_samples_per_second': 2.196, 'train_steps_per_second': 0.659, 'train_loss': 6.422257868448893, 'epoch': 5.0}\n"
     ]
    },
    {
     "data": {
      "text/plain": [
       "TrainOutput(global_step=15, training_loss=6.422257868448893, metrics={'train_runtime': 22.7717, 'train_samples_per_second': 2.196, 'train_steps_per_second': 0.659, 'train_loss': 6.422257868448893, 'epoch': 5.0})"
      ]
     },
     "execution_count": 23,
     "metadata": {},
     "output_type": "execute_result"
    }
   ],
   "source": [
    "# Define the training arguments\n",
    "training_args = TrainingArguments(\n",
    "    output_dir=\"segformer-b0-scene-parse-150\",\n",
    "    learning_rate=2e-4,\n",
    "    per_device_train_batch_size=4,\n",
    "    per_device_eval_batch_size=4,\n",
    "    num_train_epochs=5,\n",
    "    weight_decay=0.01,\n",
    "    evaluation_strategy=\"epoch\",\n",
    "    save_strategy=\"epoch\",\n",
    "    load_best_model_at_end=True,\n",
    "    metric_for_best_model=\"eval_loss\",\n",
    "    greater_is_better=False,  # Use your custom metric function here\n",
    "    logging_steps=10,\n",
    "    save_steps=0,\n",
    "    training_loss = \n",
    ")\n",
    "\n",
    "# Define the Trainer\n",
    "trainer = Trainer(\n",
    "    model=model,\n",
    "    args=training_args,\n",
    "    train_dataset=train_dataset,\n",
    "    eval_dataset=valid_dataset,\n",
    "    # compute_metrics=compute_mIOU\n",
    "    # preds = model.eval()\n",
    "    # tokenizer argument removed\n",
    ")\n",
    "\n",
    "# Train the model\n",
    "trainer.train()\n"
   ]
  },
  {
   "cell_type": "code",
   "execution_count": 24,
   "metadata": {},
   "outputs": [],
   "source": [
    "model.save_pretrained(\"best_segformer_test\")\n"
   ]
  },
  {
   "cell_type": "code",
   "execution_count": null,
   "metadata": {},
   "outputs": [],
   "source": []
  },
  {
   "cell_type": "code",
   "execution_count": 25,
   "metadata": {},
   "outputs": [],
   "source": [
    "training_logs = trainer.state.log_history"
   ]
  },
  {
   "cell_type": "code",
   "execution_count": 26,
   "metadata": {},
   "outputs": [
    {
     "data": {
      "text/plain": [
       "[{'eval_loss': 6.678332328796387,\n",
       "  'eval_runtime': 0.2624,\n",
       "  'eval_samples_per_second': 7.621,\n",
       "  'eval_steps_per_second': 3.81,\n",
       "  'epoch': 1.0,\n",
       "  'step': 3},\n",
       " {'eval_loss': 6.359519958496094,\n",
       "  'eval_runtime': 0.259,\n",
       "  'eval_samples_per_second': 7.722,\n",
       "  'eval_steps_per_second': 3.861,\n",
       "  'epoch': 2.0,\n",
       "  'step': 6},\n",
       " {'eval_loss': 5.7888264656066895,\n",
       "  'eval_runtime': 0.2601,\n",
       "  'eval_samples_per_second': 7.689,\n",
       "  'eval_steps_per_second': 3.845,\n",
       "  'epoch': 3.0,\n",
       "  'step': 9},\n",
       " {'loss': 6.5014,\n",
       "  'learning_rate': 6.666666666666667e-05,\n",
       "  'epoch': 3.33,\n",
       "  'step': 10},\n",
       " {'eval_loss': 5.738979816436768,\n",
       "  'eval_runtime': 0.2634,\n",
       "  'eval_samples_per_second': 7.592,\n",
       "  'eval_steps_per_second': 3.796,\n",
       "  'epoch': 4.0,\n",
       "  'step': 12},\n",
       " {'eval_loss': 5.799191951751709,\n",
       "  'eval_runtime': 0.2664,\n",
       "  'eval_samples_per_second': 7.506,\n",
       "  'eval_steps_per_second': 3.753,\n",
       "  'epoch': 5.0,\n",
       "  'step': 15},\n",
       " {'train_runtime': 22.7717,\n",
       "  'train_samples_per_second': 2.196,\n",
       "  'train_steps_per_second': 0.659,\n",
       "  'total_flos': 936910415462400.0,\n",
       "  'train_loss': 6.422257868448893,\n",
       "  'epoch': 5.0,\n",
       "  'step': 15}]"
      ]
     },
     "execution_count": 26,
     "metadata": {},
     "output_type": "execute_result"
    }
   ],
   "source": [
    "training_logs"
   ]
  },
  {
   "cell_type": "code",
   "execution_count": 27,
   "metadata": {},
   "outputs": [
    {
     "data": {
      "text/plain": [
       "[{'eval_loss': 6.678332328796387,\n",
       "  'eval_runtime': 0.2624,\n",
       "  'eval_samples_per_second': 7.621,\n",
       "  'eval_steps_per_second': 3.81,\n",
       "  'epoch': 1.0,\n",
       "  'step': 3},\n",
       " {'eval_loss': 6.359519958496094,\n",
       "  'eval_runtime': 0.259,\n",
       "  'eval_samples_per_second': 7.722,\n",
       "  'eval_steps_per_second': 3.861,\n",
       "  'epoch': 2.0,\n",
       "  'step': 6},\n",
       " {'eval_loss': 5.7888264656066895,\n",
       "  'eval_runtime': 0.2601,\n",
       "  'eval_samples_per_second': 7.689,\n",
       "  'eval_steps_per_second': 3.845,\n",
       "  'epoch': 3.0,\n",
       "  'step': 9},\n",
       " {'loss': 6.5014,\n",
       "  'learning_rate': 6.666666666666667e-05,\n",
       "  'epoch': 3.33,\n",
       "  'step': 10},\n",
       " {'eval_loss': 5.738979816436768,\n",
       "  'eval_runtime': 0.2634,\n",
       "  'eval_samples_per_second': 7.592,\n",
       "  'eval_steps_per_second': 3.796,\n",
       "  'epoch': 4.0,\n",
       "  'step': 12},\n",
       " {'eval_loss': 5.799191951751709,\n",
       "  'eval_runtime': 0.2664,\n",
       "  'eval_samples_per_second': 7.506,\n",
       "  'eval_steps_per_second': 3.753,\n",
       "  'epoch': 5.0,\n",
       "  'step': 15},\n",
       " {'train_runtime': 22.7717,\n",
       "  'train_samples_per_second': 2.196,\n",
       "  'train_steps_per_second': 0.659,\n",
       "  'total_flos': 936910415462400.0,\n",
       "  'train_loss': 6.422257868448893,\n",
       "  'epoch': 5.0,\n",
       "  'step': 15}]"
      ]
     },
     "execution_count": 27,
     "metadata": {},
     "output_type": "execute_result"
    }
   ],
   "source": [
    "training_logs"
   ]
  },
  {
   "cell_type": "code",
   "execution_count": 21,
   "metadata": {},
   "outputs": [
    {
     "data": {
      "image/png": "[encoded data removed]",
      "text/plain": [
       "<Figure size 1200x500 with 2 Axes>"
      ]
     },
     "metadata": {},
     "output_type": "display_data"
    }
   ],
   "source": [
    "import matplotlib.pyplot as plt\n",
    "\n",
    "training_logs = trainer.state.log_history\n",
    "\n",
    "training_loss = [log['train_loss'] for log in training_logs if 'train_loss' in log]\n",
    "validation_loss = [log['eval_loss'] for log in training_logs if 'eval_loss' in log]\n",
    "miou = [log['eval_miou'] for log in training_logs if 'eval_miou' in log]  # Replace 'eval_miou' with your actual IoU metric name\n",
    "\n",
    "\n",
    "plt.figure(figsize=(12, 5))\n",
    "\n",
    "plt.subplot(1, 2, 1)\n",
    "plt.plot(range(len(training_loss)), training_loss, label='Training Loss')\n",
    "plt.plot(range(len(validation_loss)), validation_loss, label='Validation Loss')\n",
    "plt.title('Training and Validation Loss')\n",
    "plt.xlabel('Epochs')\n",
    "plt.ylabel('Loss')\n",
    "plt.legend()\n",
    "\n",
    "plt.subplot(1, 2, 2)\n",
    "plt.plot(range(len(miou)), miou, label='Mean IoU')\n",
    "plt.title('Mean IoU')\n",
    "plt.xlabel('Epochs')\n",
    "plt.ylabel('mIoU')\n",
    "plt.legend()\n",
    "\n",
    "plt.show()\n",
    "\n"
   ]
  },
  {
   "cell_type": "code",
   "execution_count": 18,
   "metadata": {},
   "outputs": [],
   "source": [
    "# seg_model = AutoModelForSemanticSegmentation.from_pretrained(checkpoint)\n",
    "# Load the model\n",
    "seg_model = AutoModelForSemanticSegmentation.from_pretrained(\"best_segformer_test\")\n"
   ]
  },
  {
   "cell_type": "code",
   "execution_count": 19,
   "metadata": {},
   "outputs": [
    {
     "name": "stderr",
     "output_type": "stream",
     "text": [
      "Clipping input data to the valid range for imshow with RGB data ([0..1] for floats or [0..255] for integers).\n"
     ]
    },
    {
     "name": "stdout",
     "output_type": "stream",
     "text": [
      "Labels in the mask: {0: 'Background', 2: 'Class 2', 3: 'Unknown'}\n"
     ]
    },
    {
     "data": {
      "image/png": "[encoded data removed]",
      "text/plain": [
       "<Figure size 1200x600 with 2 Axes>"
      ]
     },
     "metadata": {},
     "output_type": "display_data"
    }
   ],
   "source": [
    "import matplotlib.pyplot as plt\n",
    "import numpy as np\n",
    "\n",
    "# Define paths and other necessary variables\n",
    "image_dir = image_dir  # specify the path to your image directory\n",
    "mask_dir = mask_dir   # specify the path to your mask directory\n",
    "img_names = test_img_names  # replace with your list of image names\n",
    "\n",
    "# Instantiate your dataset\n",
    "dataset = CustomImageDataset(\n",
    "    img_dir=image_dir,\n",
    "    mask_dir=mask_dir,\n",
    "    img_names=img_names,\n",
    "    feature_extractor=feature_extractor,\n",
    "    augmentation=get_training_augmentation(),\n",
    "    num_classes=7\n",
    ")\n",
    "\n",
    "# Fetch an image and its mask (change index to view different images)\n",
    "data = dataset[0]\n",
    "image = data['pixel_values'].permute(1, 2, 0).numpy()  # Convert tensor to numpy array and adjust dimensions\n",
    "mask = data['labels'].numpy()  # Convert mask tensor to numpy array\n",
    "\n",
    "# Create a function to visualize the image and mask\n",
    "def visualize_image_and_mask(image, mask, labels=None):\n",
    "    plt.figure(figsize=(12, 6))\n",
    "\n",
    "    # Display the image\n",
    "    plt.subplot(1, 2, 1)\n",
    "    plt.imshow(image)\n",
    "    plt.title('Image')\n",
    "    plt.axis('off')\n",
    "\n",
    "    # Display the mask\n",
    "    plt.subplot(1, 2, 2)\n",
    "    plt.imshow(mask, cmap='gray')  # Use grayscale colormap\n",
    "    plt.title('Mask')\n",
    "    plt.axis('off')\n",
    "\n",
    "    # Display labels if provided\n",
    "    if labels:\n",
    "        unique_labels = np.unique(mask)\n",
    "        labeled_masks = {label: labels.get(label, 'Unknown') for label in unique_labels}\n",
    "        print(\"Labels in the mask:\", labeled_masks)\n",
    "\n",
    "    plt.show()\n",
    "\n",
    "# Define your class labels (if available)\n",
    "labels_dict = {\n",
    "    0: 'Background',\n",
    "    1: 'Class 1',\n",
    "    2: 'Class 2',\n",
    "    # Add additional labels for your classes\n",
    "}\n",
    "\n",
    "# Visualize the image and its mask\n",
    "visualize_image_and_mask(image, mask, labels=labels_dict)\n"
   ]
  },
  {
   "cell_type": "code",
   "execution_count": null,
   "metadata": {},
   "outputs": [],
   "source": []
  },
  {
   "cell_type": "code",
   "execution_count": null,
   "metadata": {},
   "outputs": [],
   "source": []
  },
  {
   "cell_type": "code",
   "execution_count": null,
   "metadata": {},
   "outputs": [],
   "source": []
  },
  {
   "cell_type": "code",
   "execution_count": null,
   "metadata": {},
   "outputs": [],
   "source": []
  },
  {
   "cell_type": "code",
   "execution_count": null,
   "metadata": {},
   "outputs": [],
   "source": []
  }
 ],
 "metadata": {
  "kernelspec": {
   "display_name": "Python 3",
   "language": "python",
   "name": "python3"
  },
  "language_info": {
   "codemirror_mode": {
    "name": "ipython",
    "version": 3
   },
   "file_extension": ".py",
   "mimetype": "text/x-python",
   "name": "python",
   "nbconvert_exporter": "python",
   "pygments_lexer": "ipython3",
   "version": "3.9.13"
  },
  "orig_nbformat": 4
 },
 "nbformat": 4,
 "nbformat_minor": 2
}
